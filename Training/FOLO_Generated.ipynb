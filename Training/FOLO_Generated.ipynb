{
 "cells": [
  {
   "cell_type": "code",
   "execution_count": 3,
   "metadata": {},
   "outputs": [],
   "source": [
    "# IMPORTS #\n",
    "import numpy as np\n",
    "import matplotlib.pyplot as plt\n",
    "import cv2\n",
    "from tqdm import tqdm\n",
    "from concurrent.futures import ThreadPoolExecutor, ProcessPoolExecutor, as_completed\n",
    "import tensorflow as tf\n",
    "from tensorflow.keras.layers import Input, Conv2D, ReLU, MaxPool2D, BatchNormalization, Concatenate\n",
    "from tensorflow.keras.models import Model\n"
   ]
  },
  {
   "cell_type": "code",
   "execution_count": 4,
   "metadata": {},
   "outputs": [],
   "source": [
    "# CONSTANTS #\n",
    "\n",
    "IMAGE_X = 300\n",
    "IMAGE_Y = 300\n",
    "\n",
    "GAUSSIAN_X = 48\n",
    "GAUSSIAN_Y = 48\n",
    "\n",
    "SCALE_FACTOR = 8\n",
    "\n",
    "LABEL_X = IMAGE_X // SCALE_FACTOR\n",
    "LABEL_Y = IMAGE_Y // SCALE_FACTOR\n",
    "\n",
    "# Range for Random Gen\n",
    "MIN_NUM_GAUSSIANS = 2\n",
    "MAX_NUM_GAUSSIANS = 5\n",
    "\n",
    "MIN_STD_X = 5\n",
    "MAX_STD_X = 15\n",
    "\n",
    "MIN_STD_Y = 5\n",
    "MAX_STD_Y = 15\n",
    "\n",
    "MIN_THETA = 0\n",
    "MAX_THETA = np.pi\n",
    "\n",
    "MIN_INTENSITY = 0.05\n",
    "MAX_INTENSITY = 0.7\n",
    "\n",
    "THRESHOLD = 0.5\n"
   ]
  },
  {
   "cell_type": "code",
   "execution_count": 5,
   "metadata": {},
   "outputs": [],
   "source": [
    "# Generate Gaussian Functions\n",
    "def img_gen(VERBOSE: bool = False) -> tuple:\n",
    "\n",
    "    img = np.zeros(shape=(IMAGE_Y, IMAGE_X, 1))\n",
    "    label = np.zeros(shape=(LABEL_Y, LABEL_X, 1))\n",
    "    params = []\n",
    "\n",
    "    num_gaussians = np.random.randint(low=MIN_NUM_GAUSSIANS, high=MAX_NUM_GAUSSIANS)\n",
    "    for gaussian in range(num_gaussians):\n",
    "\n",
    "        # Randomize params\n",
    "        center_x = np.random.randint(low=0 + GAUSSIAN_X // 2, high=IMAGE_X - GAUSSIAN_X // 2)\n",
    "        center_y = np.random.randint(low=0 + GAUSSIAN_Y // 2, high=IMAGE_Y - GAUSSIAN_Y // 2)\n",
    "\n",
    "        std_x = np.random.randint(low=MIN_STD_X, high=MAX_STD_X)\n",
    "        std_y = np.random.randint(low=MIN_STD_Y, high=MAX_STD_Y)\n",
    "        theta = np.random.randint(low=MIN_THETA, high=MAX_THETA)\n",
    "        \n",
    "        intensity = np.random.uniform(low=MIN_INTENSITY, high=MAX_INTENSITY)\n",
    "        \n",
    "        # Generate Gaussian\n",
    "        params.append((center_x, center_y, std_x, std_y, theta, intensity))\n",
    "        gaussian = gaussian_gen(center_x, center_y, std_x, std_y, theta)\n",
    "\n",
    "        # Add Gaussian to img\n",
    "        img += intensity * gaussian\n",
    "        # img += gaussian\n",
    "        \n",
    "        label_x = center_x // SCALE_FACTOR\n",
    "        label_y = center_y // SCALE_FACTOR\n",
    "\n",
    "        label[label_y, label_x] = 1\n",
    "\n",
    "    # Convert to 8 bit int\n",
    "    img = (img * 255).astype(np.uint8)\n",
    "\n",
    "    # DEBUG\n",
    "    if VERBOSE:\n",
    "        # print(f\"[Image Shape]: {str(img.shape)}\")\n",
    "        # print(f\"[Label Shape]: {str(label.shape)}\")\n",
    "        print(f\"[Target Gaussians #]: {str(num_gaussians)}\")\n",
    "        for param in params:\n",
    "            print(\n",
    "            f\"[(c_x, c_y)]: ({param[0]:<3}, {param[1]:<3}) \"\n",
    "            f\"[(s_x, s_y)]: ({param[2]:<3}, {param[3]:<3}) \"\n",
    "            f\"[Theta]: {param[4]:.2f} \"\n",
    "            f\"[I]: {param[5]:.2f} \"\n",
    "            )\n",
    "\n",
    "    return (img, label, params)\n",
    "\n",
    "def gaussian_gen(center_x: int, center_y: int, std_x: int, std_y: int, theta: float) -> np.ndarray:\n",
    "    X = np.arange(0, IMAGE_X, 1)\n",
    "    Y = np.arange(0, IMAGE_Y, 1)\n",
    "    X, Y = np.meshgrid(X, Y)\n",
    "\n",
    "    cos_theta_sqrd = np.pow(np.cos(theta),2)\n",
    "    sin_theta_sqrd = np.pow(np.sin(theta),2)\n",
    "    sin_cos_theta = np.sin(theta) * np.cos(theta)\n",
    "\n",
    "    std_x_sqrd = np.pow(std_x, 2)\n",
    "    std_y_sqrd = np.pow(std_y, 2)\n",
    "\n",
    "    a = (cos_theta_sqrd) / (2 * std_x_sqrd) + (sin_theta_sqrd) / (2 * std_y_sqrd)\n",
    "    b = -1 * (sin_cos_theta) / (2 * std_x_sqrd) + (sin_cos_theta) / (2 * std_y_sqrd)\n",
    "    c = (sin_theta_sqrd) / (2 * std_x_sqrd) + (cos_theta_sqrd) / (2 * std_y_sqrd)\n",
    "\n",
    "    gaussian = np.exp(-(a * (X - center_x)**2 + 2*b * (X - center_x) * (Y - center_y) + c * (Y - center_y)**2))\n",
    "\n",
    "    return np.expand_dims(gaussian, -1)\n",
    "\n",
    "def img_shift():\n",
    "    pass\n",
    "\n",
    "def img_scale():\n",
    "    pass\n",
    "\n",
    "def img_visualization_one(img: np.ndarray, label: np.ndarray, params: list = None, threshold: int = THRESHOLD) -> None:\n",
    "    rgb_image = cv2.cvtColor(img, cv2.COLOR_GRAY2BGR)\n",
    "\n",
    "    # Coords of Gaussians:\n",
    "    for x in range(LABEL_X):\n",
    "        for y in range(LABEL_Y):\n",
    "            if label[y, x,] >= threshold:\n",
    "                \n",
    "                top_left = (x * SCALE_FACTOR - GAUSSIAN_X // 2, y * SCALE_FACTOR - GAUSSIAN_Y // 2)\n",
    "                bottom_right = (x * SCALE_FACTOR + GAUSSIAN_X // 2, y * SCALE_FACTOR + GAUSSIAN_Y // 2)\n",
    "                color = (0, 200, 200)\n",
    "                thickness = 2\n",
    "                \n",
    "                cv2.rectangle(rgb_image, top_left, bottom_right, color, thickness)\n",
    "\n",
    "    if params != None:\n",
    "        for param in params:\n",
    "            print(\n",
    "            f\"[(c_x, c_y)]: ({param[0]:<3}, {param[1]:<3}) \"\n",
    "            f\"[(s_x, s_y)]: ({param[2]:<3}, {param[3]:<3}) \"\n",
    "            f\"[Theta]: {param[4]:.2f} \"\n",
    "            f\"[I]: {param[5]:.2f} \"\n",
    "            )\n",
    "    \n",
    "    plt.imshow(rgb_image)\n",
    "\n",
    "\n",
    "\n",
    "def img_visualization_two(img: np.ndarray, label: np.ndarray, params: list = None) -> None:\n",
    "    \n",
    "    if params != None:\n",
    "        for param in params:\n",
    "            print(\n",
    "            f\"[(c_x, c_y)]: ({param[0]:<3}, {param[1]:<3}) \"\n",
    "            f\"[(s_x, s_y)]: ({param[2]:<3}, {param[3]:<3}) \"\n",
    "            f\"[Theta]: {param[4]:.2f} \"\n",
    "            f\"[I]: {param[5]:.2f} \"\n",
    "            )\n",
    "\n",
    "    plt.subplot(1, 2, 1)\n",
    "    plt.imshow(img, cmap='gray')\n",
    "    \n",
    "    plt.subplot(1, 2, 2)\n",
    "    plt.imshow(label, cmap='gray')\n"
   ]
  },
  {
   "cell_type": "code",
   "execution_count": 8,
   "metadata": {},
   "outputs": [
    {
     "name": "stdout",
     "output_type": "stream",
     "text": [
      "[(c_x, c_y)]: (92 , 83 ) [(s_x, s_y)]: (5  , 7  ) [Theta]: 0.00 [I]: 0.43 \n",
      "[(c_x, c_y)]: (167, 206) [(s_x, s_y)]: (14 , 8  ) [Theta]: 0.00 [I]: 0.67 \n",
      "[(c_x, c_y)]: (103, 188) [(s_x, s_y)]: (14 , 8  ) [Theta]: 0.00 [I]: 0.52 \n"
     ]
    },
    {
     "data": {
      "image/png": "[encoded data removed]",
      "text/plain": [
       "<Figure size 640x480 with 2 Axes>"
      ]
     },
     "metadata": {},
     "output_type": "display_data"
    }
   ],
   "source": [
    "# Test Functions: \n",
    "img, label, params = img_gen()\n",
    "img_visualization_two(img, label, params)\n",
    "# img_visualization_two(img, label, params)"
   ]
  },
  {
   "cell_type": "code",
   "execution_count": 13,
   "metadata": {},
   "outputs": [
    {
     "name": "stderr",
     "output_type": "stream",
     "text": [
      "100%|██████████| 10000/10000 [00:12<00:00, 812.80it/s]\n"
     ]
    },
    {
     "name": "stdout",
     "output_type": "stream",
     "text": [
      "[Images Shape]: (10000, 300, 300, 1)\n",
      "[Labels Shape]: (10000, 37, 37, 1)\n"
     ]
    }
   ],
   "source": [
    "# Generate Training Data\n",
    "SAMPLE_COUNT = 10000\n",
    "img_arr = []\n",
    "label_arr = []\n",
    "\n",
    "def process_image():\n",
    "    img, label, _ = img_gen()\n",
    "    return img, label\n",
    "\n",
    "img_arr = []\n",
    "label_arr = []\n",
    "with ThreadPoolExecutor() as executor:\n",
    "    futures = [executor.submit(process_image) for _ in range(SAMPLE_COUNT)]\n",
    "    for future in tqdm(as_completed(futures), total=SAMPLE_COUNT):\n",
    "        img, label = future.result()\n",
    "        img_arr.append(np.round(img.astype(np.float32) / (np.max(img.astype(np.float32)) + 1) * 256) / 256) # Normalize values to [0, 1)\n",
    "        label_arr.append(label)\n",
    "\n",
    "img_arr = np.array(img_arr).astype(np.float32)\n",
    "label_arr = np.array(label_arr).astype(np.float32)\n",
    "\n",
    "print(f'[Images Shape]: {img_arr.shape}')\n",
    "print(f'[Labels Shape]: {label_arr.shape}')"
   ]
  },
  {
   "cell_type": "code",
   "execution_count": 14,
   "metadata": {},
   "outputs": [],
   "source": [
    "# Convert Data to tf DataSet \n",
    "BATCH_SIZE = 32\n",
    "\n",
    "dataset = tf.data.Dataset.from_tensor_slices((img_arr, label_arr))\n",
    "dataset = dataset.shuffle(SAMPLE_COUNT, reshuffle_each_iteration=True)\n",
    "dataset = dataset.batch(BATCH_SIZE)"
   ]
  },
  {
   "cell_type": "code",
   "execution_count": 7,
   "metadata": {},
   "outputs": [],
   "source": [
    "# Model Architecture (INCREASE FILTER SIZE? 16, 32, 64)\n",
    "input_layer = Input(shape=(IMAGE_X, IMAGE_Y, 1), name='InputLayer')\n",
    "\n",
    "x = Conv2D(filters=16, kernel_size=3, strides=1, padding='same', kernel_initializer='lecun_uniform')(input_layer)\n",
    "x = BatchNormalization(axis=-1, momentum=0.1, epsilon=1e-05)(x)\n",
    "x = ReLU()(x)\n",
    "x = MaxPool2D(pool_size=2)(x)\n",
    "\n",
    "x = Conv2D(filters=16, kernel_size=3, strides=1, padding='same', kernel_initializer='lecun_uniform')(x)\n",
    "x = BatchNormalization(axis=-1, momentum=0.1, epsilon=1e-05)(x)\n",
    "x = ReLU()(x)\n",
    "x = MaxPool2D(pool_size=2)(x)\n",
    "\n",
    "x = Conv2D(filters=16, kernel_size=3, strides=1, padding='same', kernel_initializer='lecun_uniform')(x)\n",
    "x = BatchNormalization(axis=-1, momentum=0.1, epsilon=1e-05)(x)\n",
    "x = ReLU()(x)\n",
    "x = MaxPool2D(pool_size=2)(x)\n",
    "\n",
    "x_prob = Conv2D(1, kernel_size=3, padding='same', name='x_prob', activation='sigmoid', kernel_initializer='lecun_uniform')(x)\n",
    "\n",
    "baby_yolo = Model(inputs=input_layer, outputs=x_prob, name='baby_yolo')"
   ]
  },
  {
   "cell_type": "code",
   "execution_count": 11,
   "metadata": {},
   "outputs": [],
   "source": [
    "# Tensorflow Functions\n",
    "bce = tf.keras.losses.BinaryCrossentropy()\n",
    "\n",
    "# def masked_loss(y_true, y_pred):\n",
    "#     \"\"\"\n",
    "#     Compute loss only at locations where y_true == 1.\n",
    "    \n",
    "#     Args:\n",
    "#         y_true: Ground truth labels, shape (batch_size, ...).\n",
    "#         y_pred: Predicted probabilities, shape (batch_size, ...).\n",
    "    \n",
    "#     Returns:\n",
    "#         Tensor representing the masked loss.\n",
    "#     \"\"\"\n",
    "#     # Clip predictions to avoid log(0) errors\n",
    "#     y_pred = tf.clip_by_value(y_pred, 1e-7, 1.0 - 1e-7)\n",
    "    \n",
    "#     # Create a mask for locations where y_true == 1\n",
    "#     mask = tf.cast(tf.equal(y_true, 1), tf.float32)\n",
    "    \n",
    "#     # Compute binary cross-entropy loss\n",
    "#     bce = - (y_true * tf.math.log(y_pred) + (1 - y_true) * tf.math.log(1 - y_pred))\n",
    "    \n",
    "#     # Apply the mask to focus only on locations where y_true == 1\n",
    "#     masked_loss = mask * bce\n",
    "    \n",
    "#     # Compute the mean loss over the masked locations\n",
    "#     return tf.reduce_sum(masked_loss) / tf.reduce_sum(mask)\n",
    "\n",
    "@tf.function\n",
    "def loss_p(y_true, y_pred):\n",
    "    loss = tf.losses.binary_crossentropy(y_true, y_pred)\n",
    "    return tf.reduce_sum(loss)\n",
    "    "
   ]
  },
  {
   "cell_type": "code",
   "execution_count": 12,
   "metadata": {},
   "outputs": [
    {
     "name": "stderr",
     "output_type": "stream",
     "text": [
      "  0%|          | 0/313 [00:00<?, ?it/s]2025-07-01 01:20:25.973675: W external/local_xla/xla/tsl/framework/cpu_allocator_impl.cc:83] Allocation of 3600000000 exceeds 10% of free system memory.\n",
      "I0000 00:00:1751358026.500579    6805 cuda_dnn.cc:529] Loaded cuDNN version 90300\n",
      "100%|██████████| 313/313 [00:19<00:00, 10.54it/s]2025-07-01 01:20:45.949512: I tensorflow/core/framework/local_rendezvous.cc:407] Local rendezvous is aborting with status: OUT_OF_RANGE: End of sequence\n",
      "100%|██████████| 313/313 [00:19<00:00, 15.67it/s]\n"
     ]
    },
    {
     "name": "stdout",
     "output_type": "stream",
     "text": [
      "Epoch [1/20], Loss: 2670.85791015625\n"
     ]
    },
    {
     "name": "stderr",
     "output_type": "stream",
     "text": [
      "100%|█████████▉| 312/313 [00:17<00:00, 17.87it/s]2025-07-01 01:21:03.226211: I tensorflow/core/framework/local_rendezvous.cc:407] Local rendezvous is aborting with status: OUT_OF_RANGE: End of sequence\n",
      "100%|██████████| 313/313 [00:17<00:00, 18.12it/s]\n"
     ]
    },
    {
     "name": "stdout",
     "output_type": "stream",
     "text": [
      "Epoch [2/20], Loss: 135.20558166503906\n"
     ]
    },
    {
     "name": "stderr",
     "output_type": "stream",
     "text": [
      "100%|██████████| 313/313 [00:17<00:00, 18.09it/s]\n"
     ]
    },
    {
     "name": "stdout",
     "output_type": "stream",
     "text": [
      "Epoch [3/20], Loss: 117.77980041503906\n"
     ]
    },
    {
     "name": "stderr",
     "output_type": "stream",
     "text": [
      "100%|█████████▉| 312/313 [00:17<00:00, 17.87it/s]2025-07-01 01:21:37.861776: I tensorflow/core/framework/local_rendezvous.cc:407] Local rendezvous is aborting with status: OUT_OF_RANGE: End of sequence\n",
      "100%|██████████| 313/313 [00:17<00:00, 18.06it/s]\n"
     ]
    },
    {
     "name": "stdout",
     "output_type": "stream",
     "text": [
      "Epoch [4/20], Loss: 112.62981414794922\n"
     ]
    },
    {
     "name": "stderr",
     "output_type": "stream",
     "text": [
      "100%|██████████| 313/313 [00:17<00:00, 17.99it/s]\n"
     ]
    },
    {
     "name": "stdout",
     "output_type": "stream",
     "text": [
      "Epoch [5/20], Loss: 107.77426147460938\n"
     ]
    },
    {
     "name": "stderr",
     "output_type": "stream",
     "text": [
      "100%|██████████| 313/313 [00:17<00:00, 18.14it/s]\n"
     ]
    },
    {
     "name": "stdout",
     "output_type": "stream",
     "text": [
      "Epoch [6/20], Loss: 103.21060943603516\n"
     ]
    },
    {
     "name": "stderr",
     "output_type": "stream",
     "text": [
      "100%|██████████| 313/313 [00:17<00:00, 18.19it/s]\n"
     ]
    },
    {
     "name": "stdout",
     "output_type": "stream",
     "text": [
      "Epoch [7/20], Loss: 99.56340789794922\n"
     ]
    },
    {
     "name": "stderr",
     "output_type": "stream",
     "text": [
      "100%|█████████▉| 312/313 [00:17<00:00, 18.51it/s]2025-07-01 01:22:46.933368: I tensorflow/core/framework/local_rendezvous.cc:407] Local rendezvous is aborting with status: OUT_OF_RANGE: End of sequence\n",
      "100%|██████████| 313/313 [00:17<00:00, 18.20it/s]\n"
     ]
    },
    {
     "name": "stdout",
     "output_type": "stream",
     "text": [
      "Epoch [8/20], Loss: 96.40966796875\n"
     ]
    },
    {
     "name": "stderr",
     "output_type": "stream",
     "text": [
      "100%|██████████| 313/313 [00:17<00:00, 18.26it/s]\n"
     ]
    },
    {
     "name": "stdout",
     "output_type": "stream",
     "text": [
      "Epoch [9/20], Loss: 93.78602600097656\n"
     ]
    },
    {
     "name": "stderr",
     "output_type": "stream",
     "text": [
      "100%|██████████| 313/313 [00:17<00:00, 18.15it/s]\n"
     ]
    },
    {
     "name": "stdout",
     "output_type": "stream",
     "text": [
      "Epoch [10/20], Loss: 91.73655700683594\n"
     ]
    },
    {
     "name": "stderr",
     "output_type": "stream",
     "text": [
      "100%|██████████| 313/313 [00:17<00:00, 18.21it/s]\n"
     ]
    },
    {
     "name": "stdout",
     "output_type": "stream",
     "text": [
      "Epoch [11/20], Loss: 89.43809509277344\n"
     ]
    },
    {
     "name": "stderr",
     "output_type": "stream",
     "text": [
      "100%|██████████| 313/313 [00:17<00:00, 18.22it/s]\n"
     ]
    },
    {
     "name": "stdout",
     "output_type": "stream",
     "text": [
      "Epoch [12/20], Loss: 87.94535064697266\n"
     ]
    },
    {
     "name": "stderr",
     "output_type": "stream",
     "text": [
      "100%|██████████| 313/313 [00:17<00:00, 17.88it/s]\n"
     ]
    },
    {
     "name": "stdout",
     "output_type": "stream",
     "text": [
      "Epoch [13/20], Loss: 85.63146209716797\n"
     ]
    },
    {
     "name": "stderr",
     "output_type": "stream",
     "text": [
      "100%|██████████| 313/313 [00:17<00:00, 18.18it/s]\n"
     ]
    },
    {
     "name": "stdout",
     "output_type": "stream",
     "text": [
      "Epoch [14/20], Loss: 83.61820220947266\n"
     ]
    },
    {
     "name": "stderr",
     "output_type": "stream",
     "text": [
      "100%|██████████| 313/313 [00:17<00:00, 18.10it/s]\n"
     ]
    },
    {
     "name": "stdout",
     "output_type": "stream",
     "text": [
      "Epoch [15/20], Loss: 82.06981658935547\n"
     ]
    },
    {
     "name": "stderr",
     "output_type": "stream",
     "text": [
      "100%|█████████▉| 312/313 [00:17<00:00, 17.87it/s]2025-07-01 01:25:05.103834: I tensorflow/core/framework/local_rendezvous.cc:407] Local rendezvous is aborting with status: OUT_OF_RANGE: End of sequence\n",
      "100%|██████████| 313/313 [00:17<00:00, 18.00it/s]\n"
     ]
    },
    {
     "name": "stdout",
     "output_type": "stream",
     "text": [
      "Epoch [16/20], Loss: 80.98432159423828\n"
     ]
    },
    {
     "name": "stderr",
     "output_type": "stream",
     "text": [
      "100%|██████████| 313/313 [00:17<00:00, 18.10it/s]\n"
     ]
    },
    {
     "name": "stdout",
     "output_type": "stream",
     "text": [
      "Epoch [17/20], Loss: 78.04884338378906\n"
     ]
    },
    {
     "name": "stderr",
     "output_type": "stream",
     "text": [
      "100%|██████████| 313/313 [00:17<00:00, 18.23it/s]\n"
     ]
    },
    {
     "name": "stdout",
     "output_type": "stream",
     "text": [
      "Epoch [18/20], Loss: 77.02284240722656\n"
     ]
    },
    {
     "name": "stderr",
     "output_type": "stream",
     "text": [
      "100%|██████████| 313/313 [00:17<00:00, 18.36it/s]\n"
     ]
    },
    {
     "name": "stdout",
     "output_type": "stream",
     "text": [
      "Epoch [19/20], Loss: 75.71345520019531\n"
     ]
    },
    {
     "name": "stderr",
     "output_type": "stream",
     "text": [
      "100%|██████████| 313/313 [00:17<00:00, 18.00it/s]"
     ]
    },
    {
     "name": "stdout",
     "output_type": "stream",
     "text": [
      "Epoch [20/20], Loss: 74.85392761230469\n"
     ]
    },
    {
     "name": "stderr",
     "output_type": "stream",
     "text": [
      "\n"
     ]
    }
   ],
   "source": [
    "# Training Loop\n",
    "num_epochs = 20\n",
    "\n",
    "# lr_schedule = tf.keras.optimizers.schedules.ExponentialDecay(\n",
    "#     initial_learning_rate=0.01,\n",
    "#     decay_steps=num_epochs,\n",
    "#     decay_rate=0.9)\n",
    "\n",
    "lr_schedule = 0.001\n",
    "adam_optimizer = tf.keras.optimizers.Adam(learning_rate=lr_schedule)\n",
    "baby_yolo.compile(optimizer=adam_optimizer, loss=loss_p, run_eagerly=True)\n",
    "\n",
    "for epoch in range(num_epochs):\n",
    "    running_loss = 0.0\n",
    "    \n",
    "    for batch in tqdm(dataset):\n",
    "        with tf.GradientTape() as tape:\n",
    "            prediction = baby_yolo(batch[0])\n",
    "            loss = loss_p(batch[1], prediction)  # Compute the loss\n",
    "        grads = tape.gradient(loss, baby_yolo.trainable_variables)\n",
    "        adam_optimizer.apply_gradients(zip(grads, baby_yolo.trainable_variables))\n",
    "        running_loss += loss.numpy()\n",
    "        \n",
    "    average_loss = running_loss / len(dataset)\n",
    "    print(f\"Epoch [{epoch+1}/{num_epochs}], Loss: {average_loss}\")\n"
   ]
  },
  {
   "cell_type": "code",
   "execution_count": 21,
   "metadata": {},
   "outputs": [
    {
     "name": "stderr",
     "output_type": "stream",
     "text": [
      "  0%|          | 0/100 [00:00<?, ?it/s]"
     ]
    },
    {
     "name": "stderr",
     "output_type": "stream",
     "text": [
      "100%|██████████| 100/100 [00:00<00:00, 264.69it/s]\n"
     ]
    },
    {
     "name": "stdout",
     "output_type": "stream",
     "text": [
      "(50, 37, 37, 1)\n"
     ]
    }
   ],
   "source": [
    "VAL_COUNT = 100\n",
    "img_arr_val = []\n",
    "label_arr_val = []\n",
    "\n",
    "def process_image():\n",
    "    img, label, _ = img_gen()\n",
    "    return img, label\n",
    "\n",
    "with ThreadPoolExecutor() as executor:\n",
    "    futures = [executor.submit(process_image) for _ in range(VAL_COUNT)]\n",
    "    for future in tqdm(as_completed(futures), total=VAL_COUNT):\n",
    "        img, label = future.result()\n",
    "        # img_arr.append(img / (np.max(img) + 1)) # Normalize values to [0, 1)\n",
    "        img_arr_val.append(img / np.max(img)) # Normalize values to [0, 1]\n",
    "        label_arr_val.append(label)\n",
    "\n",
    "img_arr_val = np.array(img_arr).astype(np.float32)\n",
    "label_arr_val = np.array(label_arr).astype(np.float32)\n",
    "\n",
    "predictions = baby_yolo(img_arr_val[:50])\n",
    "print(predictions.shape)"
   ]
  },
  {
   "cell_type": "code",
   "execution_count": 36,
   "metadata": {},
   "outputs": [
    {
     "name": "stdout",
     "output_type": "stream",
     "text": [
      "0.9963857\n"
     ]
    },
    {
     "name": "stderr",
     "output_type": "stream",
     "text": [
      "Clipping input data to the valid range for imshow with RGB data ([0..1] for floats or [0..255] for integers). Got range [0.0..200.0].\n"
     ]
    },
    {
     "data": {
      "image/png": "[encoded data removed]",
      "text/plain": [
       "<Figure size 640x480 with 1 Axes>"
      ]
     },
     "metadata": {},
     "output_type": "display_data"
    }
   ],
   "source": [
    "index = np.random.randint(low=0, high=50)\n",
    "print(np.max(predictions[index]))\n",
    "img_visualization_one(img_arr_val[index], predictions[index])"
   ]
  }
 ],
 "metadata": {
  "kernelspec": {
   "display_name": "hls4ml-Env",
   "language": "python",
   "name": "python3"
  },
  "language_info": {
   "codemirror_mode": {
    "name": "ipython",
    "version": 3
   },
   "file_extension": ".py",
   "mimetype": "text/x-python",
   "name": "python",
   "nbconvert_exporter": "python",
   "pygments_lexer": "ipython3",
   "version": "3.9.6"
  }
 },
 "nbformat": 4,
 "nbformat_minor": 2
}
