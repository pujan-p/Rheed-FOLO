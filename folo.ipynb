{
 "cells": [
  {
   "cell_type": "code",
   "execution_count": 90,
   "metadata": {},
   "outputs": [
    {
     "name": "stderr",
     "output_type": "stream",
     "text": [
      "/Users/pujan/VirtualEnvironments/hls4ml-Env/lib/python3.9/site-packages/urllib3/__init__.py:35: NotOpenSSLWarning: urllib3 v2 only supports OpenSSL 1.1.1+, currently the 'ssl' module is compiled with 'LibreSSL 2.8.3'. See: https://github.com/urllib3/urllib3/issues/3020\n",
      "  warnings.warn(\n"
     ]
    }
   ],
   "source": [
    "# IMPORTS #\n",
    "import numpy as np\n",
    "import matplotlib.pyplot as plt\n",
    "import cv2\n",
    "import tqdm\n",
    "import tensorflow"
   ]
  },
  {
   "cell_type": "code",
   "execution_count": 2,
   "metadata": {},
   "outputs": [],
   "source": [
    "# CONSTANTS #\n",
    "\n",
    "IMAGE_X = 300\n",
    "IMAGE_Y = 300\n",
    "\n",
    "GAUSSIAN_X = 48\n",
    "GAUSSIAN_Y = 48\n",
    "\n",
    "SCALE_FACTOR = 8\n",
    "\n",
    "LABEL_X = IMAGE_X // SCALE_FACTOR\n",
    "LABEL_Y = IMAGE_Y // SCALE_FACTOR\n",
    "\n",
    "# Range for Random Gen\n",
    "MIN_NUM_GAUSSIANS = 2\n",
    "MAX_NUM_GAUSSIANS = 5\n",
    "\n",
    "MIN_STD_X = 7\n",
    "MAX_STD_X = 12\n",
    "\n",
    "MIN_STD_Y = 7\n",
    "MAX_STD_Y = 12\n",
    "\n",
    "MIN_THETA = 0\n",
    "MAX_THETA = np.pi\n",
    "\n",
    "MIN_INTENSITY = 0.05\n",
    "MAX_INTENSITY = 0.7\n"
   ]
  },
  {
   "cell_type": "code",
   "execution_count": 96,
   "metadata": {},
   "outputs": [],
   "source": [
    "# Generate Gaussian Functions\n",
    "def img_gen(VERBOSE: bool = False) -> tuple:\n",
    "\n",
    "    img = np.zeros(shape=(IMAGE_Y, IMAGE_X))\n",
    "    label = np.zeros(shape=(LABEL_Y, LABEL_X))\n",
    "    params = []\n",
    "\n",
    "    num_gaussians = np.random.randint(low=MIN_NUM_GAUSSIANS, high=MAX_NUM_GAUSSIANS)\n",
    "    for gaussian in range(num_gaussians):\n",
    "\n",
    "        # Randomize params\n",
    "        center_x = np.random.randint(low=0 + GAUSSIAN_X // 2, high=IMAGE_X - GAUSSIAN_X // 2)\n",
    "        center_y = np.random.randint(low=0 + GAUSSIAN_Y // 2, high=IMAGE_Y - GAUSSIAN_Y // 2)\n",
    "\n",
    "        std_x = np.random.randint(low=MIN_STD_X, high=MAX_STD_X)\n",
    "        std_y = np.random.randint(low=MIN_STD_Y, high=MAX_STD_Y)\n",
    "        theta = np.random.randint(low=MIN_THETA, high=MAX_THETA)\n",
    "        \n",
    "        intensity = np.random.uniform(low=MIN_INTENSITY, high=MAX_INTENSITY)\n",
    "        \n",
    "        # Generate Gaussian\n",
    "        params.append((center_x, center_y, std_x, std_y, theta, intensity))\n",
    "        gaussian = gaussian_gen(center_x, center_y, std_x, std_y, theta)\n",
    "\n",
    "        # Add Gaussian to img\n",
    "        img += intensity * gaussian\n",
    "        \n",
    "        label_x = center_x // SCALE_FACTOR\n",
    "        label_y = center_y // SCALE_FACTOR\n",
    "\n",
    "        label[label_y, label_x] = 1\n",
    "\n",
    "    # Convert to 8 bit int\n",
    "    img = (img * 255).astype(np.uint8)\n",
    "\n",
    "    # DEBUG\n",
    "    if VERBOSE:\n",
    "        # print(f\"[Image Shape]: {str(img.shape)}\")\n",
    "        # print(f\"[Label Shape]: {str(label.shape)}\")\n",
    "        print(f\"[Target Gaussians #]: {str(num_gaussians)}\")\n",
    "        for param in params:\n",
    "            print(\n",
    "            f\"[(c_x, c_y)]: ({param[0]:<3}, {param[1]:<3}) \"\n",
    "            f\"[(s_x, s_y)]: ({param[2]:<3}, {param[3]:<3}) \"\n",
    "            f\"[Theta]: {param[4]:.2f} \"\n",
    "            f\"[I]: {param[5]:.2f} \"\n",
    "            )\n",
    "\n",
    "    return (img, label, params)\n",
    "\n",
    "def gaussian_gen(center_x: int, center_y: int, std_x: int, std_y: int, theta: float) -> np.ndarray:\n",
    "    X = np.arange(0, IMAGE_X, 1)\n",
    "    Y = np.arange(0, IMAGE_Y, 1)\n",
    "    X, Y = np.meshgrid(X, Y)\n",
    "\n",
    "    cos_theta_sqrd = np.pow(np.cos(theta),2)\n",
    "    sin_theta_sqrd = np.pow(np.sin(theta),2)\n",
    "    sin_cos_theta = np.sin(theta) * np.cos(theta)\n",
    "\n",
    "    std_x_sqrd = np.pow(std_x, 2)\n",
    "    std_y_sqrd = np.pow(std_y, 2)\n",
    "\n",
    "    a = (cos_theta_sqrd) / (2 * std_x_sqrd) + (sin_theta_sqrd) / (2 * std_y_sqrd)\n",
    "    b = -1 * (sin_cos_theta) / (2 * std_x_sqrd) + (sin_cos_theta) / (2 * std_y_sqrd)\n",
    "    c = (sin_theta_sqrd) / (2 * std_x_sqrd) + (cos_theta_sqrd) / (2 * std_y_sqrd)\n",
    "\n",
    "    gaussian = np.exp(-(a * (X - center_x)**2 + 2*b * (X - center_x) * (Y - center_y) + c * (Y - center_y)**2))\n",
    "\n",
    "    return gaussian\n",
    "\n",
    "def img_shift():\n",
    "    pass\n",
    "\n",
    "def img_scale():\n",
    "    pass\n",
    "\n",
    "def img_visualization_one(img: np.ndarray, label: np.ndarray, params: list) -> None:\n",
    "    rgb_image = cv2.cvtColor(img, cv2.COLOR_GRAY2BGR)\n",
    "\n",
    "    # Coords of Gaussians:\n",
    "    for x in range(LABEL_X):\n",
    "        for y in range(LABEL_Y):\n",
    "            if label[y, x] == 1:\n",
    "                \n",
    "                top_left = (x * SCALE_FACTOR - GAUSSIAN_X // 2, y * SCALE_FACTOR - GAUSSIAN_Y // 2)\n",
    "                bottom_right = (x * SCALE_FACTOR + GAUSSIAN_X // 2, y * SCALE_FACTOR + GAUSSIAN_Y // 2)\n",
    "                color = (0, 200, 200)\n",
    "                thickness = 2\n",
    "                \n",
    "                cv2.rectangle(rgb_image, top_left, bottom_right, color, thickness)\n",
    "\n",
    "    for param in params:\n",
    "        print(\n",
    "        f\"[(c_x, c_y)]: ({param[0]:<3}, {param[1]:<3}) \"\n",
    "        f\"[(s_x, s_y)]: ({param[2]:<3}, {param[3]:<3}) \"\n",
    "        f\"[Theta]: {param[4]:.2f} \"\n",
    "        f\"[I]: {param[5]:.2f} \"\n",
    "        )\n",
    "    \n",
    "    plt.imshow(rgb_image)\n",
    "\n",
    "\n",
    "\n",
    "def img_visualization_two(img: np.ndarray, label: np.ndarray, params: list) -> None:\n",
    "    \n",
    "    for param in params:\n",
    "        print(\n",
    "        f\"[(c_x, c_y)]: ({param[0]:<3}, {param[1]:<3}) \"\n",
    "        f\"[(s_x, s_y)]: ({param[2]:<3}, {param[3]:<3}) \"\n",
    "        f\"[Theta]: {param[4]:.2f} \"\n",
    "        f\"[I]: {param[5]:.2f} \"\n",
    "        )\n",
    "\n",
    "    plt.subplot(1, 2, 1)\n",
    "    plt.imshow(img, cmap='gray')\n",
    "    \n",
    "    plt.subplot(1, 2, 2)\n",
    "    plt.imshow(label, cmap='gray')\n"
   ]
  },
  {
   "cell_type": "code",
   "execution_count": 97,
   "metadata": {},
   "outputs": [
    {
     "name": "stdout",
     "output_type": "stream",
     "text": [
      "[(c_x, c_y)]: (71 , 74 ) [(s_x, s_y)]: (8  , 9  ) [Theta]: 1.00 [I]: 0.20 \n",
      "[(c_x, c_y)]: (107, 246) [(s_x, s_y)]: (10 , 11 ) [Theta]: 1.00 [I]: 0.25 \n",
      "[(c_x, c_y)]: (43 , 193) [(s_x, s_y)]: (11 , 9  ) [Theta]: 2.00 [I]: 0.46 \n",
      "[(c_x, c_y)]: (275, 122) [(s_x, s_y)]: (11 , 7  ) [Theta]: 2.00 [I]: 0.68 \n"
     ]
    },
    {
     "data": {
      "image/png": "[encoded data removed]",
      "text/plain": [
       "<Figure size 640x480 with 1 Axes>"
      ]
     },
     "metadata": {},
     "output_type": "display_data"
    }
   ],
   "source": [
    "# Generate Training Data\n",
    "img, label, params = img_gen(VERBOSE=False)\n",
    "img_visualization_one(img, label, params)"
   ]
  },
  {
   "cell_type": "code",
   "execution_count": null,
   "metadata": {},
   "outputs": [],
   "source": [
    "# Normalize: \n"
   ]
  },
  {
   "cell_type": "code",
   "execution_count": null,
   "metadata": {},
   "outputs": [],
   "source": [
    "# Model Architecture"
   ]
  }
 ],
 "metadata": {
  "kernelspec": {
   "display_name": "hls4ml-Env",
   "language": "python",
   "name": "python3"
  },
  "language_info": {
   "codemirror_mode": {
    "name": "ipython",
    "version": 3
   },
   "file_extension": ".py",
   "mimetype": "text/x-python",
   "name": "python",
   "nbconvert_exporter": "python",
   "pygments_lexer": "ipython3",
   "version": "3.9.6"
  }
 },
 "nbformat": 4,
 "nbformat_minor": 2
}
